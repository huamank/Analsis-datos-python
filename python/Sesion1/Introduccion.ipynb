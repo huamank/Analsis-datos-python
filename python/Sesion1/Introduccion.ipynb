{
 "cells": [
  {
   "cell_type": "code",
   "execution_count": 1,
   "id": "c3656a32-b2b7-47a3-9698-f095631f6155",
   "metadata": {},
   "outputs": [
    {
     "name": "stdout",
     "output_type": "stream",
     "text": [
      "HOLA MUNDO\n"
     ]
    }
   ],
   "source": [
    "# Indentacion\n",
    "print(\"HOLA MUNDO\")"
   ]
  },
  {
   "cell_type": "code",
   "execution_count": 4,
   "id": "532b905b-e226-429d-af73-2b1053d849f3",
   "metadata": {},
   "outputs": [
    {
     "name": "stdout",
     "output_type": "stream",
     "text": [
      "False\n"
     ]
    }
   ],
   "source": [
    "x = '5'\n",
    "\n",
    "if x == 5:\n",
    "    print(\"Verdadero\")\n",
    "else:\n",
    "    print(\"False\")"
   ]
  },
  {
   "cell_type": "code",
   "execution_count": 5,
   "id": "7755a2e6-f1e6-42b9-b468-2a6957e50edf",
   "metadata": {},
   "outputs": [
    {
     "ename": "IndentationError",
     "evalue": "expected an indented block (875758378.py, line 2)",
     "output_type": "error",
     "traceback": [
      "\u001b[0;36m  Cell \u001b[0;32mIn[5], line 2\u001b[0;36m\u001b[0m\n\u001b[0;31m    print(\"Verdadero\")\u001b[0m\n\u001b[0m    ^\u001b[0m\n\u001b[0;31mIndentationError\u001b[0m\u001b[0;31m:\u001b[0m expected an indented block\n"
     ]
    }
   ],
   "source": [
    "if x == 5:\n",
    "print(\"Verdadero\")\n",
    "else:\n",
    "    print(\"False\")"
   ]
  },
  {
   "cell_type": "code",
   "execution_count": 6,
   "id": "acef8b23-b067-4a5e-b7a7-cc56459f4a0c",
   "metadata": {},
   "outputs": [
    {
     "name": "stdout",
     "output_type": "stream",
     "text": [
      "1\n"
     ]
    }
   ],
   "source": [
    "# Este es un comentario\n",
    "print(1)"
   ]
  },
  {
   "cell_type": "code",
   "execution_count": 7,
   "id": "612adfce-2529-446c-a7c8-629674ae3d4b",
   "metadata": {},
   "outputs": [],
   "source": [
    "# Variables\n",
    "a = 5\n",
    "b = \"Datapath\"\n",
    "c = 2.5\n",
    "\n"
   ]
  },
  {
   "cell_type": "code",
   "execution_count": 8,
   "id": "d568af5b-e4e6-4cb2-b393-cac5c70fe57b",
   "metadata": {},
   "outputs": [
    {
     "name": "stdout",
     "output_type": "stream",
     "text": [
      "<class 'int'>\n"
     ]
    }
   ],
   "source": [
    "print(type(a))"
   ]
  },
  {
   "cell_type": "code",
   "execution_count": 9,
   "id": "aaf69d31-ac0e-461f-be84-4e1b1153aff0",
   "metadata": {},
   "outputs": [
    {
     "name": "stdout",
     "output_type": "stream",
     "text": [
      "<class 'str'>\n"
     ]
    }
   ],
   "source": [
    "print(type(b))"
   ]
  },
  {
   "cell_type": "code",
   "execution_count": 10,
   "id": "5ed93e0c-f608-46d8-a16a-3986af67bd9d",
   "metadata": {},
   "outputs": [
    {
     "name": "stdout",
     "output_type": "stream",
     "text": [
      "<class 'float'>\n"
     ]
    }
   ],
   "source": [
    "print(type(c))"
   ]
  },
  {
   "cell_type": "code",
   "execution_count": 11,
   "id": "6b1a4ed5-a58b-4f6f-a83f-6772ccd6fb34",
   "metadata": {},
   "outputs": [],
   "source": [
    "x,y,z = \"lunes\", \"martes\", \"Miercoles\""
   ]
  },
  {
   "cell_type": "code",
   "execution_count": 12,
   "id": "c9fea832-46ef-4e6f-b500-2a65c0ac28bb",
   "metadata": {},
   "outputs": [
    {
     "name": "stdout",
     "output_type": "stream",
     "text": [
      "lunes\n"
     ]
    }
   ],
   "source": [
    "print(x)"
   ]
  },
  {
   "cell_type": "code",
   "execution_count": 13,
   "id": "72875fc0-1158-4e7e-bb60-59e0c1338f5c",
   "metadata": {},
   "outputs": [
    {
     "name": "stdout",
     "output_type": "stream",
     "text": [
      "martes\n"
     ]
    }
   ],
   "source": [
    "print(y)"
   ]
  },
  {
   "cell_type": "code",
   "execution_count": 14,
   "id": "e6958220-1d2f-4bb6-be83-88824f45e9a8",
   "metadata": {},
   "outputs": [
    {
     "name": "stdout",
     "output_type": "stream",
     "text": [
      "Miercoles\n"
     ]
    }
   ],
   "source": [
    "print(z)"
   ]
  },
  {
   "cell_type": "code",
   "execution_count": 15,
   "id": "9674c08d-a129-4272-a126-92ad0ff7f2c0",
   "metadata": {},
   "outputs": [],
   "source": [
    "## Tipos de datos"
   ]
  },
  {
   "cell_type": "code",
   "execution_count": 16,
   "id": "186871d3-8e10-4b3e-9660-2aedeafbbb7f",
   "metadata": {},
   "outputs": [
    {
     "name": "stdout",
     "output_type": "stream",
     "text": [
      "lunes\n"
     ]
    }
   ],
   "source": [
    "#STRING\n",
    "x = 'lunes'\n",
    "print(x)"
   ]
  },
  {
   "cell_type": "code",
   "execution_count": 18,
   "id": "3f189652-15ea-4958-a3f5-0803fc1956c7",
   "metadata": {},
   "outputs": [
    {
     "name": "stdout",
     "output_type": "stream",
     "text": [
      "u\n"
     ]
    }
   ],
   "source": [
    "print(x[1]) #L"
   ]
  },
  {
   "cell_type": "code",
   "execution_count": 19,
   "id": "5f4a8967-2744-4e1c-8039-0f510a1059de",
   "metadata": {},
   "outputs": [
    {
     "name": "stdout",
     "output_type": "stream",
     "text": [
      "lun\n"
     ]
    }
   ],
   "source": [
    "print(x[0:3])"
   ]
  },
  {
   "cell_type": "code",
   "execution_count": 20,
   "id": "efd6efcf-f7b0-464e-9c3c-a085063d928e",
   "metadata": {},
   "outputs": [],
   "source": [
    "# Numericos"
   ]
  },
  {
   "cell_type": "code",
   "execution_count": 21,
   "id": "a1b11604-458a-4257-ad94-692f1d9f65e4",
   "metadata": {},
   "outputs": [],
   "source": [
    "a = 10\n",
    "b = 10.2\n",
    "c = 3.14j"
   ]
  },
  {
   "cell_type": "code",
   "execution_count": 22,
   "id": "8a76d7b1-8c2a-4bca-aaed-3fa9873a24e1",
   "metadata": {},
   "outputs": [],
   "source": [
    "# Listas"
   ]
  },
  {
   "cell_type": "code",
   "execution_count": 23,
   "id": "15dcde08-470e-4d35-b218-3313b119c712",
   "metadata": {},
   "outputs": [],
   "source": [
    "lista = []\n"
   ]
  },
  {
   "cell_type": "code",
   "execution_count": 24,
   "id": "5a14f782-7ee7-4592-8781-45bc3fe14393",
   "metadata": {},
   "outputs": [
    {
     "name": "stdout",
     "output_type": "stream",
     "text": [
      "[1, 2, 3, 4]\n"
     ]
    }
   ],
   "source": [
    "lista = [1,2,3,4]\n",
    "print(lista)"
   ]
  },
  {
   "cell_type": "code",
   "execution_count": 25,
   "id": "ca6ca65e-d1d7-4bd3-ac01-997d7a89efc8",
   "metadata": {},
   "outputs": [
    {
     "name": "stdout",
     "output_type": "stream",
     "text": [
      "[1, 'lunes', 23, 2.4]\n"
     ]
    }
   ],
   "source": [
    "lista = [1,\"lunes\",23,2.4]\n",
    "print(lista)"
   ]
  },
  {
   "cell_type": "code",
   "execution_count": 27,
   "id": "2f7db638-c78a-4909-8c1c-5985b6991702",
   "metadata": {},
   "outputs": [
    {
     "name": "stdout",
     "output_type": "stream",
     "text": [
      "[1, 'lunes', [1, 2, 4], ['x']]\n"
     ]
    }
   ],
   "source": [
    "lista = [1,\"lunes\", [1,2,4], [\"x\"]]\n",
    "print(lista)"
   ]
  },
  {
   "cell_type": "code",
   "execution_count": 28,
   "id": "7be25cfd-4280-4469-aacb-bb566200890e",
   "metadata": {},
   "outputs": [
    {
     "name": "stdout",
     "output_type": "stream",
     "text": [
      "a\n"
     ]
    }
   ],
   "source": [
    "\n",
    "lista1 = ['a','b','c','d','e','f']\n",
    "\n",
    "print(lista1[0])\n"
   ]
  },
  {
   "cell_type": "code",
   "execution_count": 29,
   "id": "605aa224-98a4-434c-921b-c910e03faf59",
   "metadata": {},
   "outputs": [
    {
     "name": "stdout",
     "output_type": "stream",
     "text": [
      "c\n"
     ]
    }
   ],
   "source": [
    "print(lista1[2])"
   ]
  },
  {
   "cell_type": "code",
   "execution_count": 30,
   "id": "494381e2-6cb0-40de-8d76-c054a0bfc1aa",
   "metadata": {},
   "outputs": [
    {
     "name": "stdout",
     "output_type": "stream",
     "text": [
      "2\n"
     ]
    }
   ],
   "source": [
    "print(lista[2][1])"
   ]
  },
  {
   "cell_type": "code",
   "execution_count": 31,
   "id": "c34193c9-0c67-48be-90f1-8851bcc264b8",
   "metadata": {},
   "outputs": [
    {
     "ename": "TypeError",
     "evalue": "list indices must be integers or slices, not float",
     "output_type": "error",
     "traceback": [
      "\u001b[0;31m---------------------------------------------------------------------------\u001b[0m",
      "\u001b[0;31mTypeError\u001b[0m                                 Traceback (most recent call last)",
      "Cell \u001b[0;32mIn[31], line 1\u001b[0m\n\u001b[0;32m----> 1\u001b[0m \u001b[38;5;28mprint\u001b[39m(\u001b[43mlista\u001b[49m\u001b[43m[\u001b[49m\u001b[38;5;241;43m1.0\u001b[39;49m\u001b[43m]\u001b[49m)\n",
      "\u001b[0;31mTypeError\u001b[0m: list indices must be integers or slices, not float"
     ]
    }
   ],
   "source": [
    "print(lista[1.0])"
   ]
  },
  {
   "cell_type": "code",
   "execution_count": 33,
   "id": "79dfed10-ef09-4c47-8581-09b3e6bded4e",
   "metadata": {},
   "outputs": [
    {
     "name": "stdout",
     "output_type": "stream",
     "text": [
      "['b', 'c', 'd', 'e']\n"
     ]
    }
   ],
   "source": [
    "print(lista1[1:5])"
   ]
  },
  {
   "cell_type": "code",
   "execution_count": 34,
   "id": "e789e54c-23d7-4165-9a5e-a409307fd432",
   "metadata": {},
   "outputs": [
    {
     "name": "stdout",
     "output_type": "stream",
     "text": [
      "['c', 'd', 'e', 'f']\n"
     ]
    }
   ],
   "source": [
    "print(lista1[2:])"
   ]
  },
  {
   "cell_type": "code",
   "execution_count": 36,
   "id": "2c88136e-834b-4c4a-8847-33ea2f5ab271",
   "metadata": {},
   "outputs": [
    {
     "name": "stdout",
     "output_type": "stream",
     "text": [
      "['a', 'b', 'c', 'd', 'e', 'f']\n"
     ]
    }
   ],
   "source": [
    "print(lista1[:])"
   ]
  },
  {
   "cell_type": "code",
   "execution_count": 37,
   "id": "3eb4f7f4-bc36-4952-98cc-34e0001684f5",
   "metadata": {},
   "outputs": [
    {
     "name": "stdout",
     "output_type": "stream",
     "text": [
      "['lunes', 'b', 'c', 'd', 'e', 'f']\n"
     ]
    }
   ],
   "source": [
    "lista1[0] = x\n",
    "print(lista1)"
   ]
  },
  {
   "cell_type": "code",
   "execution_count": 38,
   "id": "b545148f-590d-439f-8e7a-8cd4fa0fff97",
   "metadata": {},
   "outputs": [
    {
     "name": "stdout",
     "output_type": "stream",
     "text": [
      "['lunes', 'y', 'z', 'd', 'e', 'f']\n"
     ]
    }
   ],
   "source": [
    "lista1[1:3] = ['y','z']\n",
    "print(lista1)"
   ]
  },
  {
   "cell_type": "code",
   "execution_count": 39,
   "id": "32d25788-77b0-4536-bd10-d34bbeae4199",
   "metadata": {},
   "outputs": [
    {
     "name": "stdout",
     "output_type": "stream",
     "text": [
      "['lunes', 'y', 'z', 'd', 'e', 'f', 'Martes']\n"
     ]
    }
   ],
   "source": [
    "lista1.append('Martes')\n",
    "print(lista1)"
   ]
  },
  {
   "cell_type": "code",
   "execution_count": 40,
   "id": "08172c00-b092-4699-bab1-fe42cbcc3a06",
   "metadata": {},
   "outputs": [
    {
     "name": "stdout",
     "output_type": "stream",
     "text": [
      "['lunes', 'y', 'z', 'd', 'e', 'f', 'Martes', 9, 1, 3]\n"
     ]
    }
   ],
   "source": [
    "lista1.extend([9,1,3])\n",
    "print(lista1)"
   ]
  },
  {
   "cell_type": "code",
   "execution_count": 43,
   "id": "dd603033-642c-4489-a7fe-eee6297bab88",
   "metadata": {},
   "outputs": [
    {
     "name": "stdout",
     "output_type": "stream",
     "text": [
      "lunes\n",
      "y\n",
      "z\n",
      "d\n",
      "e\n",
      "f\n",
      "Martes\n",
      "9\n",
      "1\n",
      "3\n",
      "[9, 1, 3]\n"
     ]
    }
   ],
   "source": [
    "for var in lista1:\n",
    "    print(var)"
   ]
  },
  {
   "cell_type": "code",
   "execution_count": 44,
   "id": "ee89c8ab-d66c-475a-a82d-14171ff00c99",
   "metadata": {},
   "outputs": [
    {
     "name": "stdout",
     "output_type": "stream",
     "text": [
      "(1, 2, 3)\n",
      "(1, 1.2, 'Lunes')\n",
      "(1, 1.2, ('Lunes', 'Martes'))\n"
     ]
    }
   ],
   "source": [
    "# Tuplas\n",
    "\n",
    "tupla = ()\n",
    "\n",
    "# tupla int\n",
    "tupla = (1,2,3)\n",
    "print(tupla)\n",
    "\n",
    "# tupla mixta\n",
    "tupla = (1, 1.2, 'Lunes')\n",
    "print(tupla)\n",
    "\n",
    "# tupla anidada\n",
    "tupla = (1, 1.2, ('Lunes','Martes'))\n",
    "print(tupla)\n"
   ]
  },
  {
   "cell_type": "code",
   "execution_count": 45,
   "id": "2fa4e492-181b-4c20-88a4-bc3f99da1701",
   "metadata": {},
   "outputs": [
    {
     "name": "stdout",
     "output_type": "stream",
     "text": [
      "<class 'str'>\n"
     ]
    }
   ],
   "source": [
    "tupla = (\"Lunes\")\n",
    "print(type(tupla))"
   ]
  },
  {
   "cell_type": "code",
   "execution_count": 46,
   "id": "41dff38d-7312-4569-8259-335e4889ce9a",
   "metadata": {},
   "outputs": [
    {
     "name": "stdout",
     "output_type": "stream",
     "text": [
      "<class 'tuple'>\n"
     ]
    }
   ],
   "source": [
    "tupla = (\"Lunes\",)\n",
    "print(type(tupla))"
   ]
  },
  {
   "cell_type": "code",
   "execution_count": 49,
   "id": "f67ac917-3f59-4633-924d-493939680131",
   "metadata": {},
   "outputs": [
    {
     "name": "stdout",
     "output_type": "stream",
     "text": [
      "<class 'tuple'>\n"
     ]
    }
   ],
   "source": [
    "tupla = \"Lunes\", \"Martes\"\n",
    "print(type(tupla))"
   ]
  },
  {
   "cell_type": "code",
   "execution_count": 50,
   "id": "6889717a-7f7f-41f2-8f81-ba01c6b96d1a",
   "metadata": {},
   "outputs": [],
   "source": [
    "tupla = ('a', 'b' , 'c', 'd', 'e', 'f')"
   ]
  },
  {
   "cell_type": "code",
   "execution_count": 51,
   "id": "564ae24d-0809-4c1e-962b-9babeba7e950",
   "metadata": {},
   "outputs": [
    {
     "name": "stdout",
     "output_type": "stream",
     "text": [
      "a\n"
     ]
    }
   ],
   "source": [
    "print(tupla[0])"
   ]
  },
  {
   "cell_type": "code",
   "execution_count": 52,
   "id": "11355616-9b76-4ccf-93ae-1141ff11e300",
   "metadata": {},
   "outputs": [
    {
     "name": "stdout",
     "output_type": "stream",
     "text": [
      "d\n"
     ]
    }
   ],
   "source": [
    "tupla = ('a', 'b' , ('c', 'd', 'e', 'f'))\n",
    "\n",
    "print(tupla[2][1])\n"
   ]
  },
  {
   "cell_type": "code",
   "execution_count": 53,
   "id": "f35b098e-4da5-400e-beb6-5a1f19d9dbb6",
   "metadata": {},
   "outputs": [
    {
     "name": "stdout",
     "output_type": "stream",
     "text": [
      "('b', ('c', 'd', 'e', 'f'))\n"
     ]
    }
   ],
   "source": [
    "print(tupla[1:3])"
   ]
  },
  {
   "cell_type": "code",
   "execution_count": 54,
   "id": "3b527f44-7757-4f92-8b20-0bc11d9134c1",
   "metadata": {},
   "outputs": [
    {
     "name": "stdout",
     "output_type": "stream",
     "text": [
      "a\n",
      "b\n",
      "('c', 'd', 'e', 'f')\n"
     ]
    }
   ],
   "source": [
    "for var in tupla:\n",
    "    print(var)"
   ]
  },
  {
   "cell_type": "code",
   "execution_count": 55,
   "id": "9f82e847-f7f8-4da5-8346-1d4d9fdc8741",
   "metadata": {},
   "outputs": [
    {
     "ename": "TypeError",
     "evalue": "'tuple' object does not support item assignment",
     "output_type": "error",
     "traceback": [
      "\u001b[0;31m---------------------------------------------------------------------------\u001b[0m",
      "\u001b[0;31mTypeError\u001b[0m                                 Traceback (most recent call last)",
      "Cell \u001b[0;32mIn[55], line 1\u001b[0m\n\u001b[0;32m----> 1\u001b[0m \u001b[43mtupla\u001b[49m\u001b[43m[\u001b[49m\u001b[38;5;241;43m0\u001b[39;49m\u001b[43m]\u001b[49m \u001b[38;5;241m=\u001b[39m \u001b[38;5;241m2\u001b[39m\n",
      "\u001b[0;31mTypeError\u001b[0m: 'tuple' object does not support item assignment"
     ]
    }
   ],
   "source": [
    "tupla[0] = 2"
   ]
  },
  {
   "cell_type": "code",
   "execution_count": 56,
   "id": "ef0340c3-5396-4f77-bd1b-08aed52e4fc5",
   "metadata": {},
   "outputs": [],
   "source": [
    "# Diccionarios"
   ]
  },
  {
   "cell_type": "code",
   "execution_count": 57,
   "id": "55769a1f-3578-4a9c-971b-c25e53a00af2",
   "metadata": {},
   "outputs": [
    {
     "name": "stdout",
     "output_type": "stream",
     "text": [
      "{1: 'Lunes', 2: 'Martes', 3: 'Miercoles', 4: 'Jueves', 5: 'Viernes'}\n"
     ]
    }
   ],
   "source": [
    "diccionario = {}\n",
    "\n",
    "diccionario = { 1:'Lunes', 2:'Martes', 3:'Miercoles', 4:'Jueves', 5:'Viernes'}\n",
    "print(diccionario)"
   ]
  },
  {
   "cell_type": "code",
   "execution_count": 58,
   "id": "2f478a69-97c5-47ce-9a66-fc028a18d054",
   "metadata": {},
   "outputs": [
    {
     "name": "stdout",
     "output_type": "stream",
     "text": [
      "{1: 'Lunes', 'nombre': 'Juan'}\n"
     ]
    }
   ],
   "source": [
    "diccionario = {1:'Lunes', 'nombre':'Juan'}\n",
    "print(diccionario)"
   ]
  },
  {
   "cell_type": "code",
   "execution_count": 59,
   "id": "1e8e52f3-19b6-4425-86de-3af90d699eef",
   "metadata": {},
   "outputs": [
    {
     "name": "stdout",
     "output_type": "stream",
     "text": [
      "{1: 'Lunes', 'nombres': ['Juan', 'Pedro']}\n"
     ]
    }
   ],
   "source": [
    "diccionario = {1:'Lunes', 'nombres':['Juan', 'Pedro']}\n",
    "print(diccionario)"
   ]
  },
  {
   "cell_type": "code",
   "execution_count": 60,
   "id": "4c5f2944-dfca-4f61-b7f1-ff3dbed67a5e",
   "metadata": {},
   "outputs": [],
   "source": [
    "diccionario = {'nombre':'Juan', \"edad\":27, 'pais':'Mexico'}"
   ]
  },
  {
   "cell_type": "code",
   "execution_count": 65,
   "id": "0cba3319-249b-4904-abd3-7d89125efc0c",
   "metadata": {},
   "outputs": [
    {
     "name": "stdout",
     "output_type": "stream",
     "text": [
      "Juan\n",
      "Juan\n"
     ]
    }
   ],
   "source": [
    "print(diccionario['nombre'])\n",
    "print(diccionario.get('nombre'))"
   ]
  },
  {
   "cell_type": "code",
   "execution_count": 66,
   "id": "c1b6e0ed-444d-44f0-ac7e-f271c2b1fefa",
   "metadata": {},
   "outputs": [
    {
     "ename": "KeyError",
     "evalue": "'telefono'",
     "output_type": "error",
     "traceback": [
      "\u001b[0;31m---------------------------------------------------------------------------\u001b[0m",
      "\u001b[0;31mKeyError\u001b[0m                                  Traceback (most recent call last)",
      "Cell \u001b[0;32mIn[66], line 1\u001b[0m\n\u001b[0;32m----> 1\u001b[0m \u001b[38;5;28mprint\u001b[39m(\u001b[43mdiccionario\u001b[49m\u001b[43m[\u001b[49m\u001b[38;5;124;43m'\u001b[39;49m\u001b[38;5;124;43mtelefono\u001b[39;49m\u001b[38;5;124;43m'\u001b[39;49m\u001b[43m]\u001b[49m)\n",
      "\u001b[0;31mKeyError\u001b[0m: 'telefono'"
     ]
    }
   ],
   "source": [
    "print(diccionario['telefono'])"
   ]
  },
  {
   "cell_type": "code",
   "execution_count": 68,
   "id": "2bed7171-6003-4740-a142-64d5c68ee233",
   "metadata": {},
   "outputs": [
    {
     "name": "stdout",
     "output_type": "stream",
     "text": [
      "None\n"
     ]
    }
   ],
   "source": [
    "print(diccionario.get('telefono'))"
   ]
  },
  {
   "cell_type": "code",
   "execution_count": 69,
   "id": "6be6d8d5-7381-4fe0-b6ff-00334c7fe567",
   "metadata": {},
   "outputs": [
    {
     "name": "stdout",
     "output_type": "stream",
     "text": [
      "{'nombre': 'Pedro', 'edad': 27, 'pais': 'Mexico'}\n"
     ]
    }
   ],
   "source": [
    "diccionario['nombre'] = 'Pedro'\n",
    "print(diccionario)"
   ]
  },
  {
   "cell_type": "code",
   "execution_count": 70,
   "id": "bb3a495f-0f11-46d2-ac99-8e641edc7e25",
   "metadata": {},
   "outputs": [
    {
     "name": "stdout",
     "output_type": "stream",
     "text": [
      "{'nombre': 'Pedro', 'edad': 27, 'pais': 'Mexico', 'telefono': '5555555'}\n"
     ]
    }
   ],
   "source": [
    "diccionario['telefono'] = '5555555'\n",
    "print(diccionario)"
   ]
  },
  {
   "cell_type": "code",
   "execution_count": 73,
   "id": "d11e2461-b777-4db5-84b3-d859a6fd3462",
   "metadata": {},
   "outputs": [
    {
     "name": "stdout",
     "output_type": "stream",
     "text": [
      "Pedro\n",
      "27\n",
      "Mexico\n",
      "5555555\n"
     ]
    }
   ],
   "source": [
    "for clave in diccionario:\n",
    "    print(diccionario[clave])"
   ]
  },
  {
   "cell_type": "code",
   "execution_count": 74,
   "id": "8d562689-3ba7-47b1-bf72-5cf500f269fb",
   "metadata": {},
   "outputs": [],
   "source": [
    "# control de flujo"
   ]
  },
  {
   "cell_type": "code",
   "execution_count": 79,
   "id": "d73086b9-6a89-4380-9d14-8cc1642394bd",
   "metadata": {
    "scrolled": true
   },
   "outputs": [
    {
     "name": "stdout",
     "output_type": "stream",
     "text": [
      "La variable es positiva\n",
      "Esta linea siempre se imprime\n"
     ]
    }
   ],
   "source": [
    "num = 3\n",
    "\n",
    "if num > 0 :\n",
    "    print('La variable es positiva')\n",
    "else:\n",
    "    print('La variable es negativa')\n",
    "\n",
    "print('Esta linea siempre se imprime')"
   ]
  },
  {
   "cell_type": "code",
   "execution_count": 92,
   "id": "644dd7bb-d7a1-40d1-a8e3-ae5a4d932c3f",
   "metadata": {},
   "outputs": [
    {
     "name": "stdout",
     "output_type": "stream",
     "text": [
      "El numero es positivo\n"
     ]
    }
   ],
   "source": [
    "num = 4\n",
    "if num >= 0:\n",
    "    if num == 0:\n",
    "        print(\"El numero es 0\")\n",
    "    elif num > 1:\n",
    "        print(\"El numero es positivo\")\n",
    "else:\n",
    "    print(\"El numero es negativo\")"
   ]
  },
  {
   "cell_type": "code",
   "execution_count": 84,
   "id": "b8a271e8-e4fd-4c64-ad03-a256264370cf",
   "metadata": {},
   "outputs": [],
   "source": [
    "# "
   ]
  },
  {
   "cell_type": "code",
   "execution_count": 85,
   "id": "74a8d561-cc41-4953-b0a9-f7c7d418f1a7",
   "metadata": {},
   "outputs": [
    {
     "name": "stdout",
     "output_type": "stream",
     "text": [
      "1\n",
      "2\n",
      "3\n",
      "4\n",
      "5\n"
     ]
    }
   ],
   "source": [
    "numeros = [1,2,3,4,5]\n",
    "for num in numeros:\n",
    "    print(num)"
   ]
  },
  {
   "cell_type": "code",
   "execution_count": 87,
   "id": "606cefc8-a416-44db-bc70-f5810402469d",
   "metadata": {},
   "outputs": [
    {
     "name": "stdout",
     "output_type": "stream",
     "text": [
      "15\n"
     ]
    }
   ],
   "source": [
    "suma = 0\n",
    "for num in numeros:\n",
    "    suma = suma + num\n",
    "\n",
    "print(suma)\n",
    "    "
   ]
  },
  {
   "cell_type": "code",
   "execution_count": 88,
   "id": "aff30238-e477-41b2-bc02-f504533354c7",
   "metadata": {},
   "outputs": [],
   "source": [
    "# while"
   ]
  },
  {
   "cell_type": "code",
   "execution_count": 89,
   "id": "bc2ce5f8-e7e9-49e8-b69a-fd986f83848e",
   "metadata": {},
   "outputs": [
    {
     "name": "stdout",
     "output_type": "stream",
     "text": [
      "15\n"
     ]
    }
   ],
   "source": [
    "num = 5\n",
    "i = 1\n",
    "suma = 0\n",
    "\n",
    "while i <= num:\n",
    "    suma = suma + i\n",
    "    i = i + 1 \n",
    "print(suma)"
   ]
  },
  {
   "cell_type": "code",
   "execution_count": 97,
   "id": "aac4a097-591c-40ba-802e-59f6306c5855",
   "metadata": {},
   "outputs": [
    {
     "name": "stdout",
     "output_type": "stream",
     "text": [
      "c\n",
      "a\n",
      "d\n"
     ]
    }
   ],
   "source": [
    "for val in 'cadena':\n",
    "    if val == 'e':\n",
    "        break\n",
    "    print(val)"
   ]
  },
  {
   "cell_type": "code",
   "execution_count": 100,
   "id": "ba0c75c1-970b-4c64-8c3f-55feb4eae268",
   "metadata": {},
   "outputs": [
    {
     "name": "stdout",
     "output_type": "stream",
     "text": [
      "c\n",
      "a\n",
      "d\n",
      "e\n",
      "n\n",
      "a\n"
     ]
    }
   ],
   "source": [
    "for val in 'cadena':\n",
    "    if val == 'e':\n",
    "        pass\n",
    "    print(val)"
   ]
  },
  {
   "cell_type": "code",
   "execution_count": 101,
   "id": "ffb75a85-ba43-47b3-bce1-0bae851913ba",
   "metadata": {},
   "outputs": [],
   "source": [
    "# funciones"
   ]
  },
  {
   "cell_type": "code",
   "execution_count": 103,
   "id": "f0392cdc-75fc-442c-b2aa-88eaee936bfa",
   "metadata": {},
   "outputs": [],
   "source": [
    "def mi_funcion():\n",
    "    pass"
   ]
  },
  {
   "cell_type": "code",
   "execution_count": 104,
   "id": "40df1f9f-2e9b-4d5f-9cc4-6748a7deb549",
   "metadata": {},
   "outputs": [],
   "source": [
    "def suma(a,b):\n",
    "    suma = a + b\n",
    "    return suma"
   ]
  },
  {
   "cell_type": "code",
   "execution_count": 105,
   "id": "28ef9764-ec63-4dc9-b394-9f3eaa77efd5",
   "metadata": {},
   "outputs": [
    {
     "data": {
      "text/plain": [
       "7"
      ]
     },
     "execution_count": 105,
     "metadata": {},
     "output_type": "execute_result"
    }
   ],
   "source": [
    "suma(2,5)"
   ]
  },
  {
   "cell_type": "code",
   "execution_count": 107,
   "id": "170bc3b2-a208-483e-a912-dc74f93bc289",
   "metadata": {},
   "outputs": [],
   "source": [
    "def saludar(nombre):\n",
    "    return \"Hola \" + nombre"
   ]
  },
  {
   "cell_type": "code",
   "execution_count": 108,
   "id": "8c865bca-b728-4c03-8252-81f10164c751",
   "metadata": {},
   "outputs": [
    {
     "data": {
      "text/plain": [
       "'Hola Juan'"
      ]
     },
     "execution_count": 108,
     "metadata": {},
     "output_type": "execute_result"
    }
   ],
   "source": [
    "saludar(\"Juan\")"
   ]
  },
  {
   "cell_type": "code",
   "execution_count": null,
   "id": "0f2a4959-7cf2-4069-9ae3-90ea1ca051df",
   "metadata": {},
   "outputs": [],
   "source": []
  }
 ],
 "metadata": {
  "kernelspec": {
   "display_name": "Python 3 (ipykernel)",
   "language": "python",
   "name": "python3"
  },
  "language_info": {
   "codemirror_mode": {
    "name": "ipython",
    "version": 3
   },
   "file_extension": ".py",
   "mimetype": "text/x-python",
   "name": "python",
   "nbconvert_exporter": "python",
   "pygments_lexer": "ipython3",
   "version": "3.9.19"
  }
 },
 "nbformat": 4,
 "nbformat_minor": 5
}
