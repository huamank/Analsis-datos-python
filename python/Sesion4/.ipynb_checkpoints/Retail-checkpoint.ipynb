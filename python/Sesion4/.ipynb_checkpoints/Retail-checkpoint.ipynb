{
 "cells": [
  {
   "cell_type": "code",
   "execution_count": null,
   "metadata": {},
   "outputs": [],
   "source": [
    "import pandas as pd\n",
    "import matplotlib.pyplot as plt"
   ]
  },
  {
   "cell_type": "code",
   "execution_count": null,
   "metadata": {},
   "outputs": [],
   "source": [
    "infile = '../Sesion3/data_retail/customers'\n",
    "df_customers = pd.read_csv(infile,sep='|', header=None, names=[\"customer_id\",\"customer_fname\",\"customer_lname\",\"customer_email\",\"customer_password\",\"customer_street\",\"customer_city\",\"customer_state\",\"customer_zipcode\"])\n",
    "\n",
    "df_customers.head()"
   ]
  },
  {
   "cell_type": "code",
   "execution_count": null,
   "metadata": {},
   "outputs": [],
   "source": [
    "infile = '../Sesion3/data_retail/orders'\n",
    "\n",
    "df_orders = pd.read_csv(infile,sep='|', header=None, names=[\"order_id\",\"order_date\",\"order_customer_id\",\"order_status\"])\n",
    "df_orders.head()"
   ]
  },
  {
   "cell_type": "code",
   "execution_count": null,
   "metadata": {},
   "outputs": [],
   "source": [
    "infile = '../Sesion3/data_retail/order_items'\n",
    "\n",
    "df_order_items = pd.read_csv(infile,sep='|', header=None, names=[\"order_item_id\",\"order_item_order_id\",\"order_item_product_id\",\"order_item_quantity\",\"order_item_subtotal\",\"order_item_product_price\"])\n",
    "df_order_items.head()"
   ]
  },
  {
   "cell_type": "code",
   "execution_count": null,
   "metadata": {},
   "outputs": [],
   "source": [
    "infile = '../Sesion3/data_retail/departments'\n",
    "\n",
    "df_departments = pd.read_csv(infile,sep='|', header=None, names=['department_id', 'department_name'])\n",
    "df_departments.head()"
   ]
  },
  {
   "cell_type": "code",
   "execution_count": null,
   "metadata": {},
   "outputs": [],
   "source": [
    "infile = '../Sesion3/data_retail/categories'\n",
    "\n",
    "df_categories = pd.read_csv(infile,sep='|', header=None, names=[\"category_id\", \"category_department_id\", \"category_name\"])\n",
    "df_categories.head()"
   ]
  },
  {
   "cell_type": "code",
   "execution_count": null,
   "metadata": {},
   "outputs": [],
   "source": [
    "infile = '../Sesion3/data_retail/products'\n",
    "\n",
    "df_products = pd.read_csv(infile,sep='|', header=None, names=[\"product_id\",\"product_category_id\",\"product_name\",\"product_description\",\"product_price\",\"product_image\"])\n",
    "df_products.head()"
   ]
  }
 ],
 "metadata": {
  "kernelspec": {
   "display_name": "Python 3",
   "language": "python",
   "name": "python3"
  },
  "language_info": {
   "codemirror_mode": {
    "name": "ipython",
    "version": 3
   },
   "file_extension": ".py",
   "mimetype": "text/x-python",
   "name": "python",
   "nbconvert_exporter": "python",
   "pygments_lexer": "ipython3",
   "version": "3.10.13"
  }
 },
 "nbformat": 4,
 "nbformat_minor": 2
}
